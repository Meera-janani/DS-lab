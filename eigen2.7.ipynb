{
 "cells": [
  {
   "cell_type": "code",
   "execution_count": 2,
   "id": "d3d7dbeb",
   "metadata": {},
   "outputs": [
    {
     "name": "stdout",
     "output_type": "stream",
     "text": [
      "Enter the number of rows:2\n",
      "Enter the number of columns:2\n",
      "Enter the entries in a single line (separated by space): \n",
      "2 3 4 5\n",
      "[[2 3]\n",
      " [4 5]]\n",
      "Original matrix:\n",
      "a\n",
      " [[2 3]\n",
      " [4 5]]\n",
      "Eigenvalues of the said matrix [-0.27491722  7.27491722]\n",
      "Eigenvectors of the said matrix [[-0.79681209 -0.49436913]\n",
      " [ 0.60422718 -0.86925207]]\n"
     ]
    }
   ],
   "source": [
    "\n",
    "import numpy as np  \n",
    "a = int(input(\"Enter the number of rows:\"))\n",
    "b = int(input(\"Enter the number of columns:\"))  \n",
    "print(\"Enter the entries in a single line (separated by space): \")\n",
    "entries = list(map(int, input().split()))\n",
    "mat = np.matrix(entries).reshape(a, b)\n",
    "print(mat)\n",
    "print(\"Original matrix:\")\n",
    "print(\"a\\n\", mat)\n",
    "w, v = np.linalg.eig(mat) \n",
    "print( \"Eigenvalues of the said matrix\",w)\n",
    "print( \"Eigenvectors of the said matrix\",v)\n"
   ]
  },
  {
   "cell_type": "code",
   "execution_count": null,
   "id": "90ae7867",
   "metadata": {},
   "outputs": [],
   "source": []
  }
 ],
 "metadata": {
  "kernelspec": {
   "display_name": "Python 3 (ipykernel)",
   "language": "python",
   "name": "python3"
  },
  "language_info": {
   "codemirror_mode": {
    "name": "ipython",
    "version": 3
   },
   "file_extension": ".py",
   "mimetype": "text/x-python",
   "name": "python",
   "nbconvert_exporter": "python",
   "pygments_lexer": "ipython3",
   "version": "3.9.7"
  }
 },
 "nbformat": 4,
 "nbformat_minor": 5
}
