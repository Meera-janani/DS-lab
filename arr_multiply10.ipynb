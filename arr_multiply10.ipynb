{
 "cells": [
  {
   "cell_type": "code",
   "execution_count": 1,
   "id": "4fba6f23",
   "metadata": {},
   "outputs": [
    {
     "name": "stdout",
     "output_type": "stream",
     "text": [
      "Array1:\n",
      "[[2 5]\n",
      " [1 5]]\n",
      "Array2:\n",
      "[[5 3]\n",
      " [3 2]]\n",
      "\n",
      "Multiply said arrays of same size element-by-element:\n",
      "[[10 15]\n",
      " [ 3 10]]\n"
     ]
    }
   ],
   "source": [
    "import numpy as np \n",
    "a = np.array([[2, 5],\n",
    "              [1, 5]])\n",
    "b = np.array([[5, 3],\n",
    "              [3, 2]])\n",
    "print(\"Array1:\") \n",
    "print(a)\n",
    "print(\"Array2:\") \n",
    "print(b)\n",
    "print(\"\\nMultiply said arrays of same size element-by-element:\")\n",
    "print(np.multiply(a, b))"
   ]
  },
  {
   "cell_type": "code",
   "execution_count": null,
   "id": "09ed72df",
   "metadata": {},
   "outputs": [],
   "source": []
  }
 ],
 "metadata": {
  "kernelspec": {
   "display_name": "Python 3 (ipykernel)",
   "language": "python",
   "name": "python3"
  },
  "language_info": {
   "codemirror_mode": {
    "name": "ipython",
    "version": 3
   },
   "file_extension": ".py",
   "mimetype": "text/x-python",
   "name": "python",
   "nbconvert_exporter": "python",
   "pygments_lexer": "ipython3",
   "version": "3.9.7"
  }
 },
 "nbformat": 4,
 "nbformat_minor": 5
}
