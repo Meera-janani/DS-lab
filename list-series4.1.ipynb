{
 "cells": [
  {
   "cell_type": "code",
   "execution_count": 2,
   "id": "74bfdfbc",
   "metadata": {},
   "outputs": [
    {
     "name": "stdout",
     "output_type": "stream",
     "text": [
      "Contents of the Series Object:\n",
      "0     what\n",
      "1      why\n",
      "2    where\n",
      "3     when\n",
      "4      you\n",
      "5      now\n",
      "dtype: object\n"
     ]
    }
   ],
   "source": [
    "import pandas as pd\n",
    "list_of_words = ['what', 'why', 'where', 'when', 'you', 'now']\n",
    "series_obj = pd.Series(list_of_words)\n",
    "print('Contents of the Series Object:')\n",
    "print(series_obj)"
   ]
  },
  {
   "cell_type": "code",
   "execution_count": null,
   "id": "43ffe9c5",
   "metadata": {},
   "outputs": [],
   "source": []
  }
 ],
 "metadata": {
  "kernelspec": {
   "display_name": "Python 3 (ipykernel)",
   "language": "python",
   "name": "python3"
  },
  "language_info": {
   "codemirror_mode": {
    "name": "ipython",
    "version": 3
   },
   "file_extension": ".py",
   "mimetype": "text/x-python",
   "name": "python",
   "nbconvert_exporter": "python",
   "pygments_lexer": "ipython3",
   "version": "3.9.7"
  }
 },
 "nbformat": 4,
 "nbformat_minor": 5
}
