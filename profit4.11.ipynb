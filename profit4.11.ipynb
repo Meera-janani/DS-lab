{
 "cells": [
  {
   "cell_type": "code",
   "execution_count": 8,
   "id": "bf51de9f",
   "metadata": {},
   "outputs": [
    {
     "name": "stdout",
     "output_type": "stream",
     "text": [
      "   cname      profits\n",
      "0  Britania     50000\n",
      "1  Nestle       -4500\n",
      "2   Parle       55000\n",
      "3  Amul         -5000\n",
      "4    Milma       1000\n"
     ]
    }
   ],
   "source": [
    "import pandas as pd\n",
    "company = pd.read_csv('c_details.csv')\n",
    "print(company)"
   ]
  },
  {
   "cell_type": "code",
   "execution_count": 12,
   "id": "2ee7ba5f",
   "metadata": {},
   "outputs": [
    {
     "name": "stdout",
     "output_type": "stream",
     "text": [
      "   cname      profits\n",
      "0  Britania      True\n",
      "1  Nestle       False\n",
      "2   Parle        True\n",
      "3  Amul         False\n",
      "4    Milma       True\n"
     ]
    }
   ],
   "source": [
    "company['profits'] = company['profits'].map(lambda x:x>0)\n",
    "print(company)"
   ]
  },
  {
   "cell_type": "code",
   "execution_count": null,
   "id": "b4b507cc",
   "metadata": {},
   "outputs": [],
   "source": []
  },
  {
   "cell_type": "code",
   "execution_count": null,
   "id": "b345e934",
   "metadata": {},
   "outputs": [],
   "source": []
  }
 ],
 "metadata": {
  "kernelspec": {
   "display_name": "Python 3 (ipykernel)",
   "language": "python",
   "name": "python3"
  },
  "language_info": {
   "codemirror_mode": {
    "name": "ipython",
    "version": 3
   },
   "file_extension": ".py",
   "mimetype": "text/x-python",
   "name": "python",
   "nbconvert_exporter": "python",
   "pygments_lexer": "ipython3",
   "version": "3.9.0"
  }
 },
 "nbformat": 4,
 "nbformat_minor": 5
}
