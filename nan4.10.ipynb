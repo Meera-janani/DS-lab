{
 "cells": [
  {
   "cell_type": "code",
   "execution_count": 4,
   "id": "80c9417d",
   "metadata": {},
   "outputs": [
    {
     "name": "stdout",
     "output_type": "stream",
     "text": [
      "            Name     Occupation   Salary\n",
      "0  0  Aparna Raj         Intern  10000.0\n",
      "1  1   Raj Mohan  Bank employee      NaN\n",
      "2  2       Deepa       Engineer  50000.0\n",
      "3  3       Vinod      Busniness  35000.0\n",
      "4  4      Vikram    Electircian      NaN\n",
      "\n",
      "After filling Nan with 0:\n",
      "\n",
      "            Name     Occupation   Salary\n",
      "0  0  Aparna Raj         Intern  10000.0\n",
      "1  1   Raj Mohan  Bank employee      NaN\n",
      "2  2       Deepa       Engineer  50000.0\n",
      "3  3       Vinod      Busniness  35000.0\n",
      "4  4      Vikram    Electircian      NaN\n"
     ]
    }
   ],
   "source": [
    "import pandas as pd\n",
    "dataframe = pd.read_csv('data2.csv')\n",
    "print(dataframe) # original dataframe\n",
    "\n",
    "print()\n",
    "print(\"After filling Nan with 0:\")\n",
    "print()\n",
    "dataframe_nullfill = dataframe.fillna(0)\n",
    "\n",
    "print(dataframe_nullfill) # dataframe after filling NaN values with 1"
   ]
  },
  {
   "cell_type": "code",
   "execution_count": null,
   "id": "915faca3",
   "metadata": {},
   "outputs": [],
   "source": []
  }
 ],
 "metadata": {
  "kernelspec": {
   "display_name": "Python 3",
   "language": "python",
   "name": "python3"
  },
  "language_info": {
   "codemirror_mode": {
    "name": "ipython",
    "version": 3
   },
   "file_extension": ".py",
   "mimetype": "text/x-python",
   "name": "python",
   "nbconvert_exporter": "python",
   "pygments_lexer": "ipython3",
   "version": "3.8.8"
  }
 },
 "nbformat": 4,
 "nbformat_minor": 5
}
