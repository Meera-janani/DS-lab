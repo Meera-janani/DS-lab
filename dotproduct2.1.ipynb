{
 "cells": [
  {
   "cell_type": "code",
   "execution_count": 6,
   "id": "c8b4a723",
   "metadata": {
    "scrolled": false
   },
   "outputs": [
    {
     "name": "stdout",
     "output_type": "stream",
     "text": [
      "Enter the number of rows:2\n",
      "Enter the number of columns:2\n",
      "Enter the entries in a single line (separated by space): \n",
      "2 3 4 5\n",
      "[[2 3]\n",
      " [4 5]]\n"
     ]
    },
    {
     "data": {
      "text/plain": [
       "4"
      ]
     },
     "execution_count": 6,
     "metadata": {},
     "output_type": "execute_result"
    }
   ],
   "source": [
    "import numpy as np  \n",
    "A = int(input(\"Enter the number of rows:\"))\n",
    "B = int(input(\"Enter the number of columns:\"))  \n",
    "print(\"Enter the entries in a single line (separated by space): \")\n",
    "entries = list(map(int, input().split()))\n",
    "matrix = np.array(entries).reshape(A, B)\n",
    "print(matrix)\n",
    "np.dot(A,B) \n",
    "np.sum(np.multiply(A,B)) "
   ]
  },
  {
   "cell_type": "code",
   "execution_count": null,
   "id": "7ab59e8a",
   "metadata": {},
   "outputs": [],
   "source": []
  },
  {
   "cell_type": "code",
   "execution_count": null,
   "id": "14af1a6d",
   "metadata": {},
   "outputs": [],
   "source": []
  }
 ],
 "metadata": {
  "kernelspec": {
   "display_name": "Python 3 (ipykernel)",
   "language": "python",
   "name": "python3"
  },
  "language_info": {
   "codemirror_mode": {
    "name": "ipython",
    "version": 3
   },
   "file_extension": ".py",
   "mimetype": "text/x-python",
   "name": "python",
   "nbconvert_exporter": "python",
   "pygments_lexer": "ipython3",
   "version": "3.9.7"
  }
 },
 "nbformat": 4,
 "nbformat_minor": 5
}
