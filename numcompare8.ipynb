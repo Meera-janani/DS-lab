{
 "cells": [
  {
   "cell_type": "code",
   "execution_count": 2,
   "id": "85200379",
   "metadata": {},
   "outputs": [
    {
     "name": "stdout",
     "output_type": "stream",
     "text": [
      "Original arrays:\n",
      "[5 1 8]\n",
      "[49  1  2]\n",
      "\n",
      "Test said two arrays are equal (element wise) or not:?\n",
      "[False  True False]\n",
      "\n",
      "Original arrays:\n",
      "[5.   1.5  0.23]\n",
      "[4.    1.501 0.23 ]\n",
      "\n",
      "Test said two arrays are equal (element wise) or not:?\n",
      "[False False  True]\n"
     ]
    }
   ],
   "source": [
    "import numpy as np\n",
    "nums1 = np.array([5, 1, 8])\n",
    "nums2 = np.array([49, 1, 2])\n",
    "np.set_printoptions(precision=15)\n",
    "print(\"Original arrays:\")\n",
    "print(nums1)\n",
    "print(nums2)\n",
    "print(\"\\nTest said two arrays are equal (element wise) or not:?\")\n",
    "print(nums1 == nums2)\n",
    "nums1 = np.array([5, 1.5, 0.23])\n",
    "nums2 = np.array([4, 1.501, 0.23])\n",
    "print(\"\\nOriginal arrays:\")\n",
    "np.set_printoptions(precision=15)\n",
    "print(nums1)\n",
    "print(nums2)\n",
    "print(\"\\nTest said two arrays are equal (element wise) or not:?\")\n",
    "print(np.equal(nums1, nums2))"
   ]
  },
  {
   "cell_type": "code",
   "execution_count": null,
   "id": "d91aa189",
   "metadata": {},
   "outputs": [],
   "source": []
  }
 ],
 "metadata": {
  "kernelspec": {
   "display_name": "Python 3 (ipykernel)",
   "language": "python",
   "name": "python3"
  },
  "language_info": {
   "codemirror_mode": {
    "name": "ipython",
    "version": 3
   },
   "file_extension": ".py",
   "mimetype": "text/x-python",
   "name": "python",
   "nbconvert_exporter": "python",
   "pygments_lexer": "ipython3",
   "version": "3.9.7"
  }
 },
 "nbformat": 4,
 "nbformat_minor": 5
}
