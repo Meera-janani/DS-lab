{
 "cells": [
  {
   "cell_type": "code",
   "execution_count": 2,
   "id": "149b1dd6",
   "metadata": {},
   "outputs": [
    {
     "name": "stdout",
     "output_type": "stream",
     "text": [
      "    Name  Age  Rank\n",
      "0    Raj   20   1.0\n",
      "1  Akhil   22   NaN\n",
      "2  Sonum   21   8.0\n",
      "3  Tilak   19   9.0\n",
      "4  Divya   17   4.0\n",
      "5  Megha   23   NaN\n"
     ]
    }
   ],
   "source": [
    "\n",
    "import numpy as np\n",
    "import pandas as pd\n",
    "df = pd.DataFrame({'Name': ['Raj', 'Akhil', 'Sonum', 'Tilak', 'Divya', 'Megha'],\n",
    "                    'Age': [20, 22, 21, 19, 17, 23],\n",
    "                    'Rank': [1, np.nan, 8, 9, 4, np.nan]})\n",
    "\n",
    "print(df)\n"
   ]
  },
  {
   "cell_type": "code",
   "execution_count": null,
   "id": "11a6d51d",
   "metadata": {},
   "outputs": [],
   "source": []
  }
 ],
 "metadata": {
  "kernelspec": {
   "display_name": "Python 3",
   "language": "python",
   "name": "python3"
  },
  "language_info": {
   "codemirror_mode": {
    "name": "ipython",
    "version": 3
   },
   "file_extension": ".py",
   "mimetype": "text/x-python",
   "name": "python",
   "nbconvert_exporter": "python",
   "pygments_lexer": "ipython3",
   "version": "3.8.8"
  }
 },
 "nbformat": 4,
 "nbformat_minor": 5
}
