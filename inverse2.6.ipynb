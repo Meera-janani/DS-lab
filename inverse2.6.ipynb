{
 "cells": [
  {
   "cell_type": "code",
   "execution_count": 2,
   "id": "0ffc2576",
   "metadata": {},
   "outputs": [
    {
     "name": "stdout",
     "output_type": "stream",
     "text": [
      "Enter the number of rows:2\n",
      "Enter the number of columns:2\n",
      "Enter the entries in a single line (separated by space): \n",
      "2 3 4 5\n",
      "[[2 3]\n",
      " [4 5]]\n",
      "Original matrix:\n",
      "[[2 3]\n",
      " [4 5]]\n",
      "Inverse of the said matrix:\n",
      "[[-2.5  1.5]\n",
      " [ 2.  -1. ]]\n"
     ]
    }
   ],
   "source": [
    "\n",
    "import numpy as np  \n",
    "a = int(input(\"Enter the number of rows:\"))\n",
    "b = int(input(\"Enter the number of columns:\"))  \n",
    "print(\"Enter the entries in a single line (separated by space): \")\n",
    "entries = list(map(int, input().split()))\n",
    "mat = np.matrix(entries).reshape(a, b)\n",
    "print(mat)\n",
    "print(\"Original matrix:\")\n",
    "print(mat)\n",
    "result =  np.linalg.inv(mat)\n",
    "print(\"Inverse of the said matrix:\")\n",
    "print(result)\n"
   ]
  },
  {
   "cell_type": "code",
   "execution_count": null,
   "id": "5eaab1f0",
   "metadata": {},
   "outputs": [],
   "source": []
  }
 ],
 "metadata": {
  "kernelspec": {
   "display_name": "Python 3 (ipykernel)",
   "language": "python",
   "name": "python3"
  },
  "language_info": {
   "codemirror_mode": {
    "name": "ipython",
    "version": 3
   },
   "file_extension": ".py",
   "mimetype": "text/x-python",
   "name": "python",
   "nbconvert_exporter": "python",
   "pygments_lexer": "ipython3",
   "version": "3.9.7"
  }
 },
 "nbformat": 4,
 "nbformat_minor": 5
}
