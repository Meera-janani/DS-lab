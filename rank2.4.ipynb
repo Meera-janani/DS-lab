{
 "cells": [
  {
   "cell_type": "code",
   "execution_count": 8,
   "id": "03c74298",
   "metadata": {},
   "outputs": [
    {
     "name": "stdout",
     "output_type": "stream",
     "text": [
      "Enter the number of rows:2\n",
      "Enter the number of columns:2\n",
      "Enter the entries in a single line (separated by space): \n",
      "2 3 4 5\n",
      "Original array:\n",
      "[[2 3]\n",
      " [4 5]]\n",
      "\n",
      "Rank of each item of the said array:\n",
      "[[0 1]\n",
      " [0 1]]\n"
     ]
    }
   ],
   "source": [
    "import numpy as np\n",
    "a = int(input(\"Enter the number of rows:\"))\n",
    "b = int(input(\"Enter the number of columns:\"))  \n",
    "print(\"Enter the entries in a single line (separated by space): \")\n",
    "entries = list(map(int, input().split()))\n",
    "mat = np.matrix(entries).reshape(a,b)\n",
    "print(\"Original array:\")\n",
    "print(mat)\n",
    "argsort_array = mat.argsort()\n",
    "ranks_array = np.empty_like(argsort_array)\n",
    "ranks_array[argsort_array] = np.arange(len(mat))\n",
    "print(\"\\nRank of each item of the said array:\")\n",
    "print(ranks_array)\n"
   ]
  },
  {
   "cell_type": "code",
   "execution_count": null,
   "id": "56095028",
   "metadata": {},
   "outputs": [],
   "source": []
  }
 ],
 "metadata": {
  "kernelspec": {
   "display_name": "Python 3 (ipykernel)",
   "language": "python",
   "name": "python3"
  },
  "language_info": {
   "codemirror_mode": {
    "name": "ipython",
    "version": 3
   },
   "file_extension": ".py",
   "mimetype": "text/x-python",
   "name": "python",
   "nbconvert_exporter": "python",
   "pygments_lexer": "ipython3",
   "version": "3.9.7"
  }
 },
 "nbformat": 4,
 "nbformat_minor": 5
}
