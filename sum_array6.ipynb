{
 "cells": [
  {
   "cell_type": "code",
   "execution_count": 4,
   "id": "77222513",
   "metadata": {},
   "outputs": [
    {
     "name": "stdout",
     "output_type": "stream",
     "text": [
      "Given array:\n",
      "[[2 4]\n",
      " [5 7]]\n",
      "Sum Of elements:\n",
      "18\n",
      "Sum of coloum elemts:\n",
      "[ 7 11]\n",
      "Sum of row elements: \n",
      "[ 6 12]\n"
     ]
    }
   ],
   "source": [
    "import numpy as np\n",
    "a = np.array([[2,4],[5,7]])\n",
    "print(\"Given array:\")\n",
    "print(a)\n",
    "print(\"Sum Of elements:\")\n",
    "print(np.sum(a))\n",
    "print(\"Sum of coloum elemts:\")\n",
    "print(np.sum(a,axis=0))\n",
    "print(\"Sum of row elements: \")\n",
    "print(np.sum(a,axis=1))"
   ]
  },
  {
   "cell_type": "code",
   "execution_count": null,
   "id": "7a9734be",
   "metadata": {},
   "outputs": [],
   "source": []
  }
 ],
 "metadata": {
  "kernelspec": {
   "display_name": "Python 3 (ipykernel)",
   "language": "python",
   "name": "python3"
  },
  "language_info": {
   "codemirror_mode": {
    "name": "ipython",
    "version": 3
   },
   "file_extension": ".py",
   "mimetype": "text/x-python",
   "name": "python",
   "nbconvert_exporter": "python",
   "pygments_lexer": "ipython3",
   "version": "3.9.7"
  }
 },
 "nbformat": 4,
 "nbformat_minor": 5
}
