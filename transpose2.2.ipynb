{
 "cells": [
  {
   "cell_type": "code",
   "execution_count": 2,
   "id": "ee6094f9",
   "metadata": {},
   "outputs": [
    {
     "name": "stdout",
     "output_type": "stream",
     "text": [
      "Enter the number of rows:2\n",
      "Enter the number of columns:2\n",
      "Enter the entries in a single line (separated by space): \n",
      "2 3 4 5\n",
      "[[ 4  1]\n",
      " [12  3]]\n",
      "[[ 4 12]\n",
      " [ 1  3]]\n"
     ]
    }
   ],
   "source": [
    "\n",
    "import numpy as np\n",
    "a = int(input(\"Enter the number of rows:\"))\n",
    "b = int(input(\"Enter the number of columns:\"))  \n",
    "print(\"Enter the entries in a single line (separated by space): \")\n",
    "entries = list(map(int, input().split()))\n",
    "matrix = np.matrix(entries)\n",
    "print(mat)\n",
    "trans = mat.transpose()\n",
    "print(trans)\n"
   ]
  },
  {
   "cell_type": "code",
   "execution_count": null,
   "id": "e2a46f2a",
   "metadata": {},
   "outputs": [],
   "source": []
  }
 ],
 "metadata": {
  "kernelspec": {
   "display_name": "Python 3 (ipykernel)",
   "language": "python",
   "name": "python3"
  },
  "language_info": {
   "codemirror_mode": {
    "name": "ipython",
    "version": 3
   },
   "file_extension": ".py",
   "mimetype": "text/x-python",
   "name": "python",
   "nbconvert_exporter": "python",
   "pygments_lexer": "ipython3",
   "version": "3.9.7"
  }
 },
 "nbformat": 4,
 "nbformat_minor": 5
}
